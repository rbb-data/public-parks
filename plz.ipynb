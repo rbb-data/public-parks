{
 "cells": [
  {
   "cell_type": "code",
   "execution_count": 6,
   "metadata": {},
   "outputs": [],
   "source": [
    "import geopandas as gpd\n",
    "from geopandas.geoseries import *\n",
    "import numpy as np\n",
    "\n",
    "# 190 PLZs\n",
    "plz = gpd.read_file('plz.geojson')\n",
    "\n",
    "plr = gpd.read_file('output_berlin-lor.planungsraeume.geojson')\n",
    "\n",
    "plr_data = pd.read_csv('LOR_Planungsraeume_2019.csv', sep=';')\n",
    "plr_data.rename(columns={'Planungsraum': 'PLANUNGSRAUM', 'Bezirksregion': 'BEZIRKSREGION'}, inplace=True)\n",
    "\n",
    "plr = plr.merge(plr_data, on=['PLANUNGSRAUM', 'BEZIRKSREGION'])\n",
    "\n",
    "df = pd.DataFrame(columns = ['PLR', 'PLR_NAME', 'PLZ'])\n",
    "df['PLZ'] = np.empty((len(plr), 0)).tolist()\n",
    "df.head()\n",
    "for indexPLR, rowPLR in plr.iterrows():\n",
    "    df.loc[indexPLR, 'PLR'] = rowPLR.Schlüssel\n",
    "    df.loc[indexPLR, 'PLR_NAME'] = rowPLR.PLANUNGSRAUM\n",
    "    for indexPLZ, rowPLZ in plz.iterrows():\n",
    "        if rowPLZ.geometry.intersects(rowPLR.geometry):\n",
    "            df.loc[indexPLR, 'PLZ'].append(str(rowPLZ.spatial_name))\n",
    "\n",
    "df.to_csv('PLR2PLZ.csv')\n",
    "\n",
    "\n",
    "df2 = pd.DataFrame(columns = ['PLZ', 'PLR'])\n",
    "df2['PLR'] = np.empty((len(plz), 0)).tolist()\n",
    "\n",
    "for indexPLZ, rowPLZ in plz.iterrows():\n",
    "    df2.loc[indexPLZ, 'PLZ'] = rowPLZ.spatial_name\n",
    "    for indexPLR, rowPLR in plr.iterrows():\n",
    "        if rowPLR.geometry.intersects(rowPLZ.geometry):\n",
    "            df2.loc[indexPLZ, 'PLR'].append(rowPLR.Schlüssel)\n",
    "\n",
    "df2.to_csv('PLZ2PLR.csv')\n"
   ]
  },
  {
   "cell_type": "code",
   "execution_count": null,
   "metadata": {},
   "outputs": [],
   "source": []
  }
 ],
 "metadata": {
  "kernelspec": {
   "display_name": "Python 3.6.9 64-bit",
   "language": "python",
   "name": "python36964bit4f4a7b0706fb4596af9a8f10b9d63889"
  },
  "language_info": {
   "codemirror_mode": {
    "name": "ipython",
    "version": 3
   },
   "file_extension": ".py",
   "mimetype": "text/x-python",
   "name": "python",
   "nbconvert_exporter": "python",
   "pygments_lexer": "ipython3",
   "version": "3.6.9"
  }
 },
 "nbformat": 4,
 "nbformat_minor": 2
}
