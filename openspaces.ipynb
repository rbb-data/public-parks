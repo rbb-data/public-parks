{
 "cells": [
  {
   "cell_type": "code",
   "execution_count": 1,
   "metadata": {
    "scrolled": true
   },
   "outputs": [],
   "source": [
    "import pandas as pd \n",
    "\n",
    "data = pd.read_csv(\"broker.csv\").replace('-', '', regex=True)\n",
    "data[\"Größe in m² (Kataster)\"] = pd.to_numeric(data[\"Größe in m² (Kataster)\"], downcast=\"float\")\n",
    "\n",
    "#data.head()"
   ]
  },
  {
   "cell_type": "code",
   "execution_count": 2,
   "metadata": {},
   "outputs": [
    {
     "name": "stdout",
     "output_type": "stream",
     "text": [
      "61376304.0 square metre\n",
      "6137.6304 hectare\n"
     ]
    }
   ],
   "source": [
    "totalGreens = data['Größe in m² (Kataster)'].sum()\n",
    "print(\"%s square metre\" % totalGreens)\n",
    "print(\"%s hectare\" % (totalGreens/10000))"
   ]
  },
  {
   "cell_type": "code",
   "execution_count": 3,
   "metadata": {},
   "outputs": [],
   "source": [
    "#len(data['Nummer des Planungsraumes'].unique().tolist())"
   ]
  },
  {
   "cell_type": "code",
   "execution_count": 4,
   "metadata": {},
   "outputs": [],
   "source": [
    "#list(filter(None, data['Name Planungsraum'].unique().tolist()))"
   ]
  },
  {
   "cell_type": "code",
   "execution_count": 5,
   "metadata": {},
   "outputs": [],
   "source": [
    "#data.columns"
   ]
  },
  {
   "cell_type": "code",
   "execution_count": 6,
   "metadata": {},
   "outputs": [],
   "source": [
    "#data_open_spaces = data.groupby('Nummer des Planungsraumes', as_index=False).agg({\"Größe in m² (Kataster)\": \"sum\"})\n",
    "data_open_spaces = data_open_spaces.drop([0, 411])\n",
    "data_open_spaces"
   ]
  },
  {
   "cell_type": "code",
   "execution_count": 7,
   "metadata": {
    "scrolled": true
   },
   "outputs": [],
   "source": [
    "#data.groupby('Name Planungsraum', as_index=False).size().reset_index(name='Anzahl der Grünflächen').sort_values(['Anzahl der Grünflächen'], ascending=False).style.hide_index()\n"
   ]
  },
  {
   "cell_type": "code",
   "execution_count": 8,
   "metadata": {},
   "outputs": [],
   "source": [
    "#data.groupby('Bezirk').size().reset_index(name='Anzahl der Grünflächen').sort_values(['Anzahl der Grünflächen'], ascending=False).style.hide_index()"
   ]
  },
  {
   "cell_type": "code",
   "execution_count": 9,
   "metadata": {},
   "outputs": [],
   "source": [
    "#empty_PLR = data[\"Name Planungsraum\"] == \"\"\n",
    "#data[empty_PLR]"
   ]
  },
  {
   "cell_type": "code",
   "execution_count": null,
   "metadata": {},
   "outputs": [],
   "source": []
  },
  {
   "cell_type": "code",
   "execution_count": null,
   "metadata": {},
   "outputs": [],
   "source": []
  }
 ],
 "metadata": {
  "kernelspec": {
   "display_name": "Python 3.6.9 64-bit",
   "language": "python",
   "name": "python36964bit4f4a7b0706fb4596af9a8f10b9d63889"
  },
  "language_info": {
   "codemirror_mode": {
    "name": "ipython",
    "version": 3
   },
   "file_extension": ".py",
   "mimetype": "text/x-python",
   "name": "python",
   "nbconvert_exporter": "python",
   "pygments_lexer": "ipython3",
   "version": "3.6.9"
  }
 },
 "nbformat": 4,
 "nbformat_minor": 2
}
