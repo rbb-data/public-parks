{
 "cells": [
  {
   "cell_type": "code",
   "execution_count": 1,
   "metadata": {
    "scrolled": true
   },
   "outputs": [],
   "source": [
    "import pandas as pd \n",
    "\n",
    "data = pd.read_csv(\"broker.csv\").replace('-', '', regex=True)\n",
    "data[\"Größe in m² (Kataster)\"] = pd.to_numeric(data[\"Größe in m² (Kataster)\"], downcast=\"float\")\n",
    "\n",
    "#data.head()"
   ]
  },
  {
   "cell_type": "code",
   "execution_count": 2,
   "metadata": {},
   "outputs": [
    {
     "name": "stdout",
     "output_type": "stream",
     "text": [
      "61376304.0 square metre\n",
      "6137.6304 hectare\n"
     ]
    }
   ],
   "source": [
    "totalGreens = data['Größe in m² (Kataster)'].sum()\n",
    "print(\"%s square metre\" % totalGreens)\n",
    "print(\"%s hectare\" % (totalGreens/10000))"
   ]
  },
  {
   "cell_type": "code",
   "execution_count": 3,
   "metadata": {},
   "outputs": [],
   "source": [
    "#len(data['Nummer des Planungsraumes'].unique().tolist())"
   ]
  },
  {
   "cell_type": "code",
   "execution_count": 4,
   "metadata": {},
   "outputs": [],
   "source": [
    "#list(filter(None, data['Name Planungsraum'].unique().tolist()))"
   ]
  },
  {
   "cell_type": "code",
   "execution_count": 5,
   "metadata": {},
   "outputs": [],
   "source": [
    "#data.columns"
   ]
  },
  {
   "cell_type": "code",
   "execution_count": 6,
   "metadata": {},
   "outputs": [
    {
     "ename": "NameError",
     "evalue": "name 'data_open_spaces' is not defined",
     "output_type": "error",
     "traceback": [
      "\u001b[0;31m---------------------------------------------------------------------------\u001b[0m",
      "\u001b[0;31mNameError\u001b[0m                                 Traceback (most recent call last)",
      "\u001b[0;32m<ipython-input-6-8ff536b4c82e>\u001b[0m in \u001b[0;36m<module>\u001b[0;34m\u001b[0m\n\u001b[1;32m      1\u001b[0m \u001b[0;31m#data_open_spaces = data.groupby('Nummer des Planungsraumes', as_index=False).agg({\"Größe in m² (Kataster)\": \"sum\"})\u001b[0m\u001b[0;34m\u001b[0m\u001b[0;34m\u001b[0m\u001b[0;34m\u001b[0m\u001b[0m\n\u001b[0;32m----> 2\u001b[0;31m \u001b[0mdata_open_spaces\u001b[0m \u001b[0;34m=\u001b[0m \u001b[0mdata_open_spaces\u001b[0m\u001b[0;34m.\u001b[0m\u001b[0mdrop\u001b[0m\u001b[0;34m(\u001b[0m\u001b[0;34m[\u001b[0m\u001b[0;36m0\u001b[0m\u001b[0;34m,\u001b[0m \u001b[0;36m411\u001b[0m\u001b[0;34m]\u001b[0m\u001b[0;34m)\u001b[0m\u001b[0;34m\u001b[0m\u001b[0;34m\u001b[0m\u001b[0m\n\u001b[0m\u001b[1;32m      3\u001b[0m \u001b[0mdata_open_spaces\u001b[0m\u001b[0;34m\u001b[0m\u001b[0;34m\u001b[0m\u001b[0m\n",
      "\u001b[0;31mNameError\u001b[0m: name 'data_open_spaces' is not defined"
     ]
    }
   ],
   "source": [
    "#data_open_spaces = data.groupby('Nummer des Planungsraumes', as_index=False).agg({\"Größe in m² (Kataster)\": \"sum\"})\n",
    "data_open_spaces = data_open_spaces.drop([0, 411])\n",
    "data_open_spaces"
   ]
  },
  {
   "cell_type": "code",
   "execution_count": null,
   "metadata": {
    "scrolled": true
   },
   "outputs": [],
   "source": [
    "#data.groupby('Name Planungsraum', as_index=False).size().reset_index(name='Anzahl der Grünflächen').sort_values(['Anzahl der Grünflächen'], ascending=False).style.hide_index()\n"
   ]
  },
  {
   "cell_type": "code",
   "execution_count": null,
   "metadata": {},
   "outputs": [],
   "source": [
    "#data.groupby('Bezirk').size().reset_index(name='Anzahl der Grünflächen').sort_values(['Anzahl der Grünflächen'], ascending=False).style.hide_index()"
   ]
  },
  {
   "cell_type": "code",
   "execution_count": null,
   "metadata": {},
   "outputs": [],
   "source": [
    "#empty_PLR = data[\"Name Planungsraum\"] == \"\"\n",
    "#data[empty_PLR]"
   ]
  },
  {
   "cell_type": "code",
   "execution_count": null,
   "metadata": {},
   "outputs": [],
   "source": [
    "#import pandas as pd \n",
    "df = pd.read_csv('EWR201812E_Matrix.csv', sep=';')\n",
    "\n",
    "einwohner_gesamt = df['E_E'].sum()\n",
    "\n",
    "data.rename(columns = {'Nummer des Planungsraumes':'PLR_ID'}, inplace = True) \n",
    "df.rename(columns = {'RAUMID':'PLR_ID'}, inplace = True)\n",
    "data_open_spaces.rename(columns = {'Nummer des Planungsraumes':'PLR_ID'}, inplace = True) \n",
    "\n",
    "dataNew = data.groupby(['PLR_ID', 'Name Planungsraum'], as_index=False).size().reset_index(name='Anzahl der Grünflächen').sort_values(['Anzahl der Grünflächen'], ascending=False)\n",
    "\n",
    "df = pd.DataFrame(df)\n",
    "df2 = pd.DataFrame(dataNew)\n",
    "\n",
    "#print (df2[pd.to_numeric(df2.PLR_ID, errors='coerce').isnull()])\n",
    "df2 = df2.drop([0, 411])\n",
    "\n",
    "df2['PLR_ID'] = pd.to_numeric(df2['PLR_ID'])\n",
    "data_open_spaces['PLR_ID'] = pd.to_numeric(df2['PLR_ID'])\n",
    "\n",
    "df_merge_col = pd.merge(df, df2, on='PLR_ID')\n",
    "\n",
    "df_new = pd.merge(df_merge_col, data_open_spaces, on='PLR_ID')\n",
    "\n",
    "df_new['Grünflächen in h'] = df_new['Größe in m² (Kataster)'].transform(lambda x: x / 10000)\n",
    "\n",
    "df_new.rename(columns={'Name Planungsraum': 'Planungsraum', 'E_E': 'Einwohner', 'Anzahl der Grünflächen': 'Grünflächen' }, inplace=True)\n",
    "df_new[['PLR_ID', 'Planungsraum', 'Einwohner', 'Grünflächen', 'Grünflächen in h']]\n",
    "\n",
    "data_LOR = pd.read_csv(\"LOR-Planungsraeume.csv\")\n",
    "data_LOR.rename(columns = {'PLR':'PLR_ID'}, inplace = True)\n",
    "\n",
    "output = pd.merge(data_LOR, df_new, on='PLR_ID')\n",
    "output.rename(columns={'BEZNAME': 'Bezirk', 'FLAECHE_HA': 'PLR in h'}, inplace=True)\n",
    "\n",
    "output['PLR in h'] = output['PLR in h'].apply(lambda x: x.replace(',','.'))\n",
    "output = output[['PLR_ID', 'Planungsraum', 'Einwohner', 'Grünflächen', 'Grünflächen in h', 'Bezirk', 'PLR in h']].sort_values(['PLR_ID'], ascending=True)\n",
    "\n",
    "output.to_csv('open_spaces_PLR.csv', index = False, header=True)\n"
   ]
  },
  {
   "cell_type": "code",
   "execution_count": null,
   "metadata": {},
   "outputs": [],
   "source": []
  },
  {
   "cell_type": "code",
   "execution_count": null,
   "metadata": {},
   "outputs": [],
   "source": []
  }
 ],
 "metadata": {
  "kernelspec": {
   "display_name": "Python 3.6.9 64-bit",
   "language": "python",
   "name": "python36964bit4f4a7b0706fb4596af9a8f10b9d63889"
  },
  "language_info": {
   "codemirror_mode": {
    "name": "ipython",
    "version": 3
   },
   "file_extension": ".py",
   "mimetype": "text/x-python",
   "name": "python",
   "nbconvert_exporter": "python",
   "pygments_lexer": "ipython3",
   "version": "3.6.9"
  }
 },
 "nbformat": 4,
 "nbformat_minor": 2
}
