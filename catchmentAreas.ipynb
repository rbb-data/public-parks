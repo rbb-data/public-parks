{
 "cells": [
  {
   "cell_type": "code",
   "execution_count": 53,
   "metadata": {},
   "outputs": [
    {
     "data": {
      "text/html": [
       "<div>\n",
       "<style scoped>\n",
       "    .dataframe tbody tr th:only-of-type {\n",
       "        vertical-align: middle;\n",
       "    }\n",
       "\n",
       "    .dataframe tbody tr th {\n",
       "        vertical-align: top;\n",
       "    }\n",
       "\n",
       "    .dataframe thead th {\n",
       "        text-align: right;\n",
       "    }\n",
       "</style>\n",
       "<table border=\"1\" class=\"dataframe\">\n",
       "  <thead>\n",
       "    <tr style=\"text-align: right;\">\n",
       "      <th></th>\n",
       "      <th>SCHLUESSEL</th>\n",
       "      <th>PLR_NAME</th>\n",
       "      <th>geometry</th>\n",
       "    </tr>\n",
       "  </thead>\n",
       "  <tbody>\n",
       "    <tr>\n",
       "      <th>0</th>\n",
       "      <td>01011101</td>\n",
       "      <td>Stülerstr.</td>\n",
       "      <td>POLYGON ((13.33889 52.50542, 13.33986 52.50562...</td>\n",
       "    </tr>\n",
       "    <tr>\n",
       "      <th>1</th>\n",
       "      <td>01011102</td>\n",
       "      <td>Großer Tiergarten</td>\n",
       "      <td>POLYGON ((13.33140 52.51288, 13.33141 52.51285...</td>\n",
       "    </tr>\n",
       "    <tr>\n",
       "      <th>2</th>\n",
       "      <td>01011103</td>\n",
       "      <td>Lützowstr.</td>\n",
       "      <td>POLYGON ((13.34923 52.50307, 13.34972 52.50343...</td>\n",
       "    </tr>\n",
       "    <tr>\n",
       "      <th>3</th>\n",
       "      <td>01011104</td>\n",
       "      <td>Körnerstr.</td>\n",
       "      <td>POLYGON ((13.36254 52.49966, 13.36265 52.49989...</td>\n",
       "    </tr>\n",
       "    <tr>\n",
       "      <th>4</th>\n",
       "      <td>01011105</td>\n",
       "      <td>Nördl. Landwehrkanal</td>\n",
       "      <td>POLYGON ((13.35159 52.50976, 13.35199 52.50978...</td>\n",
       "    </tr>\n",
       "  </tbody>\n",
       "</table>\n",
       "</div>"
      ],
      "text/plain": [
       "  SCHLUESSEL              PLR_NAME  \\\n",
       "0   01011101            Stülerstr.   \n",
       "1   01011102     Großer Tiergarten   \n",
       "2   01011103            Lützowstr.   \n",
       "3   01011104            Körnerstr.   \n",
       "4   01011105  Nördl. Landwehrkanal   \n",
       "\n",
       "                                            geometry  \n",
       "0  POLYGON ((13.33889 52.50542, 13.33986 52.50562...  \n",
       "1  POLYGON ((13.33140 52.51288, 13.33141 52.51285...  \n",
       "2  POLYGON ((13.34923 52.50307, 13.34972 52.50343...  \n",
       "3  POLYGON ((13.36254 52.49966, 13.36265 52.49989...  \n",
       "4  POLYGON ((13.35159 52.50976, 13.35199 52.50978...  "
      ]
     },
     "execution_count": 53,
     "metadata": {},
     "output_type": "execute_result"
    }
   ],
   "source": [
    "import geopandas as gpd\n",
    "from geopandas.geoseries import *\n",
    "\n",
    "# 447 PLRs\n",
    "file_path_of_plr = 'berlin-lor.planungsraeume.geojson'\n",
    "plr = gpd.read_file(file_path_of_plr)\n",
    "plr.head()\n",
    "\n",
    "# plr.insert(0, 'New_ID', range(0, 0 + len(plr)))\n",
    "# plr.to_file('output_berlin-lor.planungsraeume.geojson', driver='GeoJSON')\n",
    "# # plr.crs\n",
    "\n",
    "# projection = \"EPSG:5678\" # https://epsg.io/5678\n",
    "# # buffer in meter (3 km/h walking pace; what is reachable in 10 min if your start at the boundary of PLR) => 500 m\n",
    "# bufferSize = 500 \n",
    "# plr = plr.to_crs(projection)\n",
    "\n",
    "# # 11522 forests\n",
    "# file_path_of_forests = 'waldflaechen.geojson'\n",
    "# forests = gpd.read_file(file_path_of_forests)\n",
    "# forests.insert(0, 'New_ID', range(0, 0 + len(forests)))\n",
    "# forests.to_file(\"output_waldflaechen.geojson\", driver=\"GeoJSON\")\n",
    "# forests = forests.to_crs(projection)\n",
    "# forests[\"area_text\"] = (forests[\"area_text\"].replace(',', '.', regex=True).astype(float))\n",
    "\n",
    "# 433585749.9072622 => 43358.5749907 hectar Berlin and Brandenburg\n",
    "# forests['area_text'].sum()\n",
    "# 282036587.22155315 => 28203.658722155315 hectar in Berlin\n",
    "# forests[(forests.land == 'Berlin')]['area_text'].sum()\n",
    "# forests[(forests.land == 'Brandenburg')]['area_text'].sum() #151549162.68570915\n",
    "\n",
    "# plr['area'] = None\n",
    "# plr['bufferedGeometry'] = None\n",
    "# plr['bufferedArea'] = None\n",
    "\n",
    "# plr['bufferedGeometry'] = plr.geometry.buffer(bufferSize)\n",
    "# type(plr['bufferedGeometry'])\n",
    "\n",
    "# plr['bufferedArea'] = None\n",
    "\n",
    "# for index, row in plr.iterrows():\n",
    "#     plr.loc[index, 'area'] = row['geometry'].area / 10000\n",
    "#     plr.loc[index, 'bufferedArea'] = row['bufferedGeometry'].area / 10000\n",
    "\n",
    "# # add open space to calc which of them intersects with bufferedGeometry \n",
    "# file_path_of_open_spaces = 'gruenflaechen_shapes.geojson'\n",
    "# open_spaces = gpd.read_file(file_path_of_open_spaces)\n",
    "# open_spaces.insert(0, 'New_ID', range(len(forests), len(forests) + len(open_spaces)))\n",
    "# open_spaces.to_file('output_gruenflaechen_shapes.geojson', driver='GeoJSON')\n",
    "# # 2509 open spaces\n",
    "# open_spaces = open_spaces.to_crs(projection)\n",
    "\n",
    "# plr['openSpacesInBufferedPLR'] = np.empty((len(plr), 0)).tolist()\n",
    "# plr['openSpacesInPLR'] = np.empty((len(plr), 0)).tolist()\n",
    "# plr['allOpenSpacesArea'] = np.empty((len(plr), 0)).tolist()\n",
    "# plr['allOpenSpacesBufferedArea'] = np.empty((len(plr), 0)).tolist()\n",
    "\n",
    "# # print(open_spaces['KATASTERFL'].sum()) # => 61376300.8 => 6137.63008 hectar\n",
    "\n",
    "# for indexPLR, rowPLR in plr.head(n=5).iterrows():\n",
    "#     for indexOS, rowOS in open_spaces.iterrows():\n",
    "#         if rowPLR.bufferedGeometry.intersects(rowOS.geometry):\n",
    "#             plr.loc[indexPLR, 'openSpacesInBufferedPLR'].append(str(rowOS.New_ID))\n",
    "#             plr.loc[indexPLR, 'allOpenSpacesBufferedArea'].append(rowOS.KATASTERFL)\n",
    "#         if rowPLR.geometry.intersects(rowOS.geometry):\n",
    "#             plr.loc[indexPLR, 'openSpacesInPLR'].append(str(rowOS.New_ID))\n",
    "#             plr.loc[indexPLR, 'allOpenSpacesArea'].append(rowOS.KATASTERFL)\n",
    "#         if rowPLR.SCHLUESSEL.startswith('0'):\n",
    "#             plr.loc[indexPLR, 'SCHLUESSEL'] = rowPLR.SCHLUESSEL[1:]\n",
    "#     for indexF, rowF in forests.iterrows():\n",
    "#         if rowPLR.bufferedGeometry.intersects(rowF.geometry):\n",
    "#             plr.loc[indexPLR, 'openSpacesInBufferedPLR'].append(str(rowF.New_ID))\n",
    "#             plr.loc[indexPLR, 'allOpenSpacesBufferedArea'].append(rowF.area_text)\n",
    "#         if rowPLR.geometry.intersects(rowF.geometry):\n",
    "#             plr.loc[indexPLR, 'openSpacesInPLR'].append(str(rowF.New_ID))\n",
    "#             plr.loc[indexPLR, 'allOpenSpacesArea'].append(rowF.area_text)\n",
    "\n",
    "# newplr = plr\n",
    "\n",
    "# # # sum of all PLRs => 89132.31203627815 hectar\n",
    "# # sumOS = plr['area'].sum()\n",
    "# # print(sumOS)\n",
    "\n",
    "# newplr.astype({'geometry': str}, {'bufferedGeometry': str}).to_csv('PLR_buffered.csv', sep=';')"
   ]
  },
  {
   "cell_type": "code",
   "execution_count": 71,
   "metadata": {},
   "outputs": [
    {
     "data": {
      "text/plain": [
       "100"
      ]
     },
     "execution_count": 71,
     "metadata": {},
     "output_type": "execute_result"
    }
   ],
   "source": [
    "import pandas as pd \n",
    "import numpy as np\n",
    "\n",
    "newplr['numberOfSpacesInPLR'] = None\n",
    "newplr['numberOfSpacesInBufferedPLR'] = None\n",
    "\n",
    "for index, row in newplr.iterrows():\n",
    "    newplr.loc[index, 'numberOfSpacesInPLR'] = len(row.openSpacesInPLR)\n",
    "    newplr.loc[index, 'numberOfSpacesInBufferedPLR'] = len(row.openSpacesInBufferedPLR)\n",
    "\n",
    "data = pd.read_csv('EWR201812E_Matrix.csv', sep=';')\n",
    "data.rename(columns = {'RAUMID':'SCHLUESSEL'}, inplace = True)\n",
    "data = data[['SCHLUESSEL', 'E_E']]\n",
    "\n",
    "data['SCHLUESSEL'] = data['SCHLUESSEL'].astype(str)\n",
    "newplr['SCHLUESSEL'] = newplr['SCHLUESSEL'].astype(str)\n",
    "\n",
    "output = pd.merge(newplr, data, on='SCHLUESSEL')\n",
    "output = output.rename(columns={'E_E': 'population'})\n",
    "\n",
    "for index, row in output.iterrows():\n",
    "    output.loc[index, 'allOpenSpacesBufferedArea'] = sum(row.allOpenSpacesBufferedArea) / 10000\n",
    "    output.loc[index, 'allOpenSpacesArea'] = sum(row.allOpenSpacesArea) / 10000\n",
    "\n",
    "#output.head()\n",
    "# 3748148\n",
    "# print(output['population'].sum())\n",
    "\n",
    "# output = output.to_json(orient='records')\n",
    "# import json\n",
    "# # Serializing json  \n",
    "# json_object = json.dumps(output) \n",
    "# # Writing to sample.json \n",
    "# with open(\"sample.json\", \"w\") as outfile: \n",
    "#     outfile.write(json_object) \n",
    "\n",
    "metadata = pd.read_csv('xn--LOR_Planungsrume_-_Berlin-xec.csv')\n",
    "metadata.rename(columns = {'spatial_na':'SCHLUESSEL'}, inplace = True)\n",
    "metadata = metadata[['SCHLUESSEL', 'BZRNAME', 'PGRNAME', 'BEZNAME']]\n",
    "\n",
    "output = pd.merge(output, metadata.astype({'SCHLUESSEL': str}), on='SCHLUESSEL')\n",
    "\n",
    "output = output.to_crs('EPSG:4326')\n",
    "#del output['bufferedGeometry']\n",
    "output.astype({'geometry': str}).to_csv('data.csv', index=False, header=True)\n",
    "output.head()\n",
    "len(output)\n",
    "#newoutput = output[['SCHLUESSEL', 'bufferedGeometry']]\n",
    "#newoutput.rename(columns = {'bufferedGeometry':'geometry'}, inplace = True)\n",
    "#newoutput = newoutput.to_crs('EPSG:4326')\n",
    "#newoutput.head()\n"
   ]
  },
  {
   "cell_type": "code",
   "execution_count": 42,
   "metadata": {
    "scrolled": true
   },
   "outputs": [
    {
     "data": {
      "text/plain": [
       "0      POLYGON ((4590540.276544848 5819827.038989667,...\n",
       "1      POLYGON ((4589946.315511615 5820690.597869712,...\n",
       "2      POLYGON ((4591356.317301231 5820080.145369755,...\n",
       "3      POLYGON ((4592487.216251641 5818895.74200631, ...\n",
       "4      POLYGON ((4591398.366173118 5820313.864548328,...\n",
       "                             ...                        \n",
       "442    POLYGON ((4590930.452381846 5830039.859072126,...\n",
       "443    POLYGON ((4589304.255336235 5830801.181567455,...\n",
       "444    POLYGON ((4589248.583336803 5830884.564671697,...\n",
       "445    POLYGON ((4587129.480400965 5828808.050936765,...\n",
       "446    POLYGON ((4586490.135250446 5830693.59905925, ...\n",
       "Name: geometry, Length: 447, dtype: object"
      ]
     },
     "execution_count": 42,
     "metadata": {},
     "output_type": "execute_result"
    }
   ],
   "source": [
    "import pandas as pd \n",
    "import geopandas as gpd\n",
    "\n",
    "df = pd.read_csv('data.csv')\n",
    "\n",
    "newoutput = df[['SCHLUESSEL', 'bufferedGeometry']]\n",
    "newoutput.rename(columns = {'bufferedGeometry':'geometry'}, inplace = True)\n",
    "#newoutput = newoutput.to_crs('EPSG:4326')\n",
    "#newoutput.head()\n",
    "\n",
    "gf = gpd.GeoDataFrame(newoutput, crs={'init': 'epsg:4326'})\n",
    "\n",
    "gf.geometry\n",
    "\n",
    "# from shapely import wkt\n",
    "\n",
    "# df['geometry'] = df['geometry'].apply(wkt.loads)\n",
    "# my_geo_df = gpd.GeoDataFrame(df, geometry='geometry')\n",
    "# type(my_geo_df.geometry)\n",
    "\n",
    "# df = gpd.GeoDataFrame(data, geometry='geometry')\n",
    "\n",
    "# # data = data.to_crs('EPSG:5678')\n",
    "\n",
    "\n",
    "# # from shapely import wkt\n",
    "\n",
    "# # data['bufferedGeometry'] = data['bufferedGeometry'].apply(wkt.loads)\n",
    "# # my_geo_df = gpd.GeoDataFrame(data, geometry='bufferedGeometry')\n",
    "# # my_geo_df.head()\n",
    "\n",
    "# type(df.geometry)\n"
   ]
  },
  {
   "cell_type": "code",
   "execution_count": 68,
   "metadata": {},
   "outputs": [
    {
     "data": {
      "text/plain": [
       "6137.6304"
      ]
     },
     "execution_count": 68,
     "metadata": {},
     "output_type": "execute_result"
    }
   ],
   "source": [
    "\n",
    "import geopandas as gpd\n",
    "from geopandas.geoseries import *\n",
    "\n",
    "\n",
    "data = pd.read_csv(\"broker.csv\").replace('-', '', regex=True)\n",
    "data[\"Größe in m² (Kataster)\"] = pd.to_numeric(data[\"Größe in m² (Kataster)\"], downcast=\"float\")\n",
    "data[\"Größe in m² (Kataster)\"].sum() / 10000\n",
    "#data.head()"
   ]
  },
  {
   "cell_type": "code",
   "execution_count": 75,
   "metadata": {},
   "outputs": [
    {
     "data": {
      "text/plain": [
       "89132.3120362781"
      ]
     },
     "execution_count": 75,
     "metadata": {},
     "output_type": "execute_result"
    }
   ],
   "source": [
    "import pandas as pd \n",
    "import geopandas as gpd\n",
    "\n",
    "df = pd.read_csv('data.csv')\n",
    "df.head()\n",
    "df.area.sum()"
   ]
  }
 ],
 "metadata": {
  "kernelspec": {
   "display_name": "Python 3.6.9 64-bit",
   "language": "python",
   "name": "python36964bit4f4a7b0706fb4596af9a8f10b9d63889"
  },
  "language_info": {
   "codemirror_mode": {
    "name": "ipython",
    "version": 3
   },
   "file_extension": ".py",
   "mimetype": "text/x-python",
   "name": "python",
   "nbconvert_exporter": "python",
   "pygments_lexer": "ipython3",
   "version": "3.6.9"
  }
 },
 "nbformat": 4,
 "nbformat_minor": 2
}
