{
 "cells": [
  {
   "cell_type": "code",
   "execution_count": null,
   "metadata": {},
   "outputs": [],
   "source": [
    "import geopandas as gpd\n",
    "import pandas as pd \n",
    "import json\n",
    "\n",
    "file_path_of_forests = 'waldflaechen.geojson'\n",
    "forests = gpd.read_file(file_path_of_forests)\n",
    "forests.insert(0, 'New_ID', range(0, 0 + len(forests)))\n",
    "forests.to_file(\"output_waldflaechen.geojson\", driver=\"GeoJSON\")\n",
    "forests[\"area_text\"] = (forests[\"area_text\"].replace(',', '.', regex=True).astype(float))\n",
    "\n",
    "isBerlinForest = forests['land'] == 'Berlin'\n",
    "berlinForests = forests[isBerlinForest]\n",
    "# len(berlinForests) # 6258\n",
    "\n",
    "berlinForests['area_text'].sum()/10000 # 282036587.22155315\n",
    "berlinForests.to_file('berlinForests.geojson', driver='GeoJSON')\n",
    "\n",
    "berlinForest = berlinForests.unary_union\n",
    "berlinForest.crs = \"EPSG:5678\"\n",
    "frame = gpd.GeoSeries([berlinForest])\n",
    "test = gpd.GeoSeries([berlinForest]).to_json()\n",
    "\n",
    "y = json.loads(test)\n",
    "y = y['features'][0]['geometry']\n",
    "# from area import area\n",
    "print(area(y)/10000) # 16285.76906703506\n"
   ]
  },
  {
   "cell_type": "code",
   "execution_count": 16,
   "metadata": {},
   "outputs": [
    {
     "data": {
      "text/plain": [
       "28280.476126600002"
      ]
     },
     "execution_count": 16,
     "metadata": {},
     "output_type": "execute_result"
    }
   ],
   "source": [
    "# import geopandas as gpd\n",
    "# from geopandas.geoseries import *\n",
    "\n",
    "# #Forstliche Standorteinheiten\n",
    "# data = pd.read_csv(\"waldflaechen.csv\", sep=';').replace('-', '', regex=True)\n",
    "# data[\"Flächengröße [ha]\"] = (data[\"Flächengröße [ha]\"].replace(',', '.', regex=True).astype(float))\n",
    "\n",
    "# #data[\"Flächengröße [ha]\"] = pd.to_numeric(data[\"Flächengröße [ha]\"], downcast=\"float\")\n",
    "\n",
    "# data['Flächengröße [ha]'].sum() #28280.476126600002\n"
   ]
  }
 ],
 "metadata": {
  "kernelspec": {
   "display_name": "Python 3.6.9 64-bit",
   "language": "python",
   "name": "python36964bit4f4a7b0706fb4596af9a8f10b9d63889"
  },
  "language_info": {
   "codemirror_mode": {
    "name": "ipython",
    "version": 3
   },
   "file_extension": ".py",
   "mimetype": "text/x-python",
   "name": "python",
   "nbconvert_exporter": "python",
   "pygments_lexer": "ipython3",
   "version": "3.6.9"
  }
 },
 "nbformat": 4,
 "nbformat_minor": 2
}
