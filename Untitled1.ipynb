{
 "cells": [
  {
   "cell_type": "code",
   "execution_count": 20,
   "metadata": {},
   "outputs": [],
   "source": [
    "import pandas as pd\n",
    "\n",
    "PLZ = pd.read_csv('PLR2PLZ.csv')\n",
    "data = pd.read_csv('data.csv')\n",
    "\n",
    "data['SCHLUESSEL'] = data['SCHLUESSEL'].astype(str)\n",
    "PLZ['SCHLUESSEL'] = PLZ['PLR'].astype(str)\n",
    "\n",
    "PLZ = PLZ[['SCHLUESSEL', 'PLZ']]\n",
    "\n",
    "output = pd.merge(PLZ, data, on='SCHLUESSEL')\n",
    "\n",
    "output = output[['New_ID', 'SCHLUESSEL', 'PLR_NAME', 'BZRNAME', 'PGRNAME', 'BEZNAME', 'PLZ', 'geometry', 'area', 'bufferedGeometry', 'bufferedArea', 'openSpacesInBufferedPLR', 'openSpacesInPLR', 'allOpenSpacesArea', 'allOpenSpacesBufferedArea', 'numberOfSpacesInPLR', 'numberOfSpacesInBufferedPLR', 'population']]\n",
    "\n",
    "output.astype({'geometry': str}, {'bufferedGeometry': str}).to_csv('data_PLZ.csv', sep=';')"
   ]
  }
 ],
 "metadata": {
  "kernelspec": {
   "display_name": "Python 3.6.9 64-bit",
   "language": "python",
   "name": "python36964bit4f4a7b0706fb4596af9a8f10b9d63889"
  },
  "language_info": {
   "codemirror_mode": {
    "name": "ipython",
    "version": 3
   },
   "file_extension": ".py",
   "mimetype": "text/x-python",
   "name": "python",
   "nbconvert_exporter": "python",
   "pygments_lexer": "ipython3",
   "version": "3.6.9"
  }
 },
 "nbformat": 4,
 "nbformat_minor": 2
}
