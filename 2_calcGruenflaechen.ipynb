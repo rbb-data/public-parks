{
 "cells": [
  {
   "cell_type": "code",
   "execution_count": 1,
   "metadata": {},
   "outputs": [],
   "source": [
    "import geopandas as gpd\n",
    "import pandas as pd \n",
    "import json\n",
    "from area import area\n",
    "\n",
    "from geopandas.geoseries import *\n",
    "\n",
    "file_path_of_forests = 'source/waldflaechen.geojson'\n",
    "forests = gpd.read_file(file_path_of_forests)\n",
    "forests.insert(0, 'New_ID', range(0, 0 + len(forests)))\n",
    "\n",
    "forests[\"area_text\"] = (forests[\"area_text\"].replace(',', '.', regex=True).astype(float))\n",
    "\n",
    "isBerlinForest = forests['land'] == 'Berlin'\n",
    "berlinForests = forests[isBerlinForest]\n",
    "# print(len(forests)) # 11522\n",
    "# print(len(berlinForests)) # 6258\n",
    "\n",
    "# berlinForests['area_text'].sum() # 282036587.22155315\n",
    "# berlinForests.to_file('berlinForests.geojson', driver='GeoJSON')\n",
    "\n",
    "# # 433585749.9072622 => 43358.5749907 hectar Berlin and Brandenburg\n",
    "# # forests['area_text'].sum()\n",
    "# # 282036587.22155315 => 28203.658722155315 hectar in Berlin\n",
    "# # forests[(forests.land == 'Berlin')]['area_text'].sum()\n",
    "# # forests[(forests.land == 'Brandenburg')]['area_text'].sum() #151549162.68570915\n",
    "\n",
    "berlinForest = berlinForests.unary_union\n",
    "berlinForest.crs = \"EPSG:5678\"\n",
    "frame = gpd.GeoSeries([berlinForest])\n",
    "test = gpd.GeoSeries([berlinForest]).to_json()\n",
    "\n",
    "y = json.loads(test)\n",
    "y = y['features'][0]['geometry']\n",
    "waldflaeche = area(y) \n",
    "# print(waldflaeche) # 162857690.6703506 in m^2"
   ]
  },
  {
   "cell_type": "code",
   "execution_count": 2,
   "metadata": {},
   "outputs": [
    {
     "name": "stdout",
     "output_type": "stream",
     "text": [
      "22433.32872703506\n"
     ]
    }
   ],
   "source": [
    "file_path_of_open_spaces = 'source/gruenflaechen.geojson'\n",
    "open_spaces = gpd.read_file(file_path_of_open_spaces)\n",
    "\n",
    "gruenflaeche = open_spaces['KATASTERFL'].sum()\n",
    "# print(gruenflaeche) # 61475596.6\n",
    "# print(len(open_spaces)) # 2525\n",
    "gesamt = waldflaeche + gruenflaeche\n",
    "print(gesamt/10000)\n",
    "# 22433.32872703506"
   ]
  },
  {
   "cell_type": "code",
   "execution_count": 6,
   "metadata": {},
   "outputs": [
    {
     "name": "stdout",
     "output_type": "stream",
     "text": [
      "2525\n",
      "6147.55966\n",
      "2518\n"
     ]
    }
   ],
   "source": [
    "data = pd.read_csv(\"source/gruenflaechen.csv\", sep=\";\").replace('-', '0', regex=True)\n",
    "data[\"Größe in m² (Kataster)\"] = pd.to_numeric(data[\"Größe in m² (Kataster)\"])\n",
    "print(len(data)) # 2525\n",
    "\n",
    "data = data.loc[data['Größe in m² (Kataster)'] > 0.0]\n",
    "print(data[\"Größe in m² (Kataster)\"].sum() / 10000) # 6147.55966\n",
    "\n",
    "print(len(data)) # 2518"
   ]
  },
  {
   "cell_type": "code",
   "execution_count": 8,
   "metadata": {},
   "outputs": [
    {
     "name": "stdout",
     "output_type": "stream",
     "text": [
      "2525\n"
     ]
    },
    {
     "data": {
      "text/plain": [
       "KENNZEICH     2518\n",
       "BEZIRKNAME    2518\n",
       "ORTSTLNAME    2514\n",
       "OBJARTNAME    2518\n",
       "NAMENR        2518\n",
       "NAMEZUSATZ    1368\n",
       "BAUJAHR        292\n",
       "SANIERJAHR      98\n",
       "KATASTERFL    2518\n",
       "WIDMUNG       2400\n",
       "PLANNR        2517\n",
       "PLANNAME      2516\n",
       "ANRECH_GF     2507\n",
       "geometry      2518\n",
       "dtype: int64"
      ]
     },
     "execution_count": 8,
     "metadata": {},
     "output_type": "execute_result"
    }
   ],
   "source": [
    "data = gpd.read_file('source/gruenflaechen.geojson')\n",
    "print(len(data)) # 2525\n",
    "data = data.loc[data['KATASTERFL'] > 0]\n",
    "data.count()\n",
    "\n",
    "# # KENNZEICH     2518\n",
    "# # BEZIRKNAME    2518\n",
    "# # ORTSTLNAME    2514\n",
    "# # OBJARTNAME    2518\n",
    "# # NAMENR        2518\n",
    "# # NAMEZUSATZ    1368\n",
    "# # BAUJAHR        292\n",
    "# # SANIERJAHR      98\n",
    "# # KATASTERFL    2518\n",
    "# # WIDMUNG       2400\n",
    "# # PLANNR        2517\n",
    "# # PLANNAME      2516\n",
    "# # ANRECH_GF     2507\n",
    "# # geometry      2518\n",
    "\n",
    "# data['KATASTERFL'].sum() #61475596.6"
   ]
  }
 ],
 "metadata": {
  "kernelspec": {
   "display_name": "Python 3.6.9 64-bit",
   "language": "python",
   "name": "python36964bit4f4a7b0706fb4596af9a8f10b9d63889"
  },
  "language_info": {
   "codemirror_mode": {
    "name": "ipython",
    "version": 3
   },
   "file_extension": ".py",
   "mimetype": "text/x-python",
   "name": "python",
   "nbconvert_exporter": "python",
   "pygments_lexer": "ipython3",
   "version": "3.6.9"
  }
 },
 "nbformat": 4,
 "nbformat_minor": 2
}
