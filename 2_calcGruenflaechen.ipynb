{
 "cells": [
  {
   "cell_type": "code",
   "execution_count": 1,
   "metadata": {},
   "outputs": [
    {
     "name": "stdout",
     "output_type": "stream",
     "text": [
      "11522\n",
      "6258\n",
      "282036587.22155315\n",
      "433585749.9072622\n",
      "282036587.22155315\n",
      "151549162.68570915\n",
      "162857690.6703506\n"
     ]
    }
   ],
   "source": [
    "import geopandas as gpd\n",
    "import pandas as pd \n",
    "import json\n",
    "from area import area\n",
    "from geopandas.geoseries import *\n",
    "\n",
    "# make calculations on park and forest areas\n",
    "\n",
    "# https://fbinter.stadt-berlin.de/fb/berlin/service_intern.jsp?id=wfs_forst_verwalt2014@senstadt&type=WFS\n",
    "forests = gpd.read_file('source/waldflaechen.geojson')\n",
    "forests.insert(0, 'New_ID', range(0, 0 + len(forests)))\n",
    "forests[\"area_text\"] = (forests[\"area_text\"].replace(',', '.', regex=True).astype(float))\n",
    "\n",
    "isBerlinForest = forests['land'] == 'Berlin'\n",
    "berlinForests = forests[isBerlinForest]\n",
    "\n",
    "print(len(forests)) # 11522\n",
    "print(len(berlinForests)) # 6258\n",
    "print(berlinForests['area_text'].sum()) # 282036587.22155315\n",
    "print(forests['area_text'].sum()) # 433585749.9072622 => 43358.5749907 hectar Berlin and Brandenburg\n",
    "print(forests[(forests.land == 'Berlin')]['area_text'].sum()) # 282036587.22155315 => 28203.658722155315 hectar in Berlin\n",
    "print(forests[(forests.land == 'Brandenburg')]['area_text'].sum()) # 151549162.68570915\n",
    "\n",
    "# remove overlapping areas of single forest spaces\n",
    "berlinForest = berlinForests.unary_union\n",
    "berlinForest.crs = \"EPSG:5678\"\n",
    "berlinForestJSON = gpd.GeoSeries([berlinForest]).to_json()\n",
    "\n",
    "berlinForest = json.loads(berlinForestJSON)\n",
    "berlinForest = berlinForest['features'][0]['geometry']\n",
    "waldflaeche = area(berlinForest) \n",
    "print(waldflaeche) # 162857690.6703506 in m^2"
   ]
  },
  {
   "cell_type": "code",
   "execution_count": 2,
   "metadata": {},
   "outputs": [
    {
     "name": "stdout",
     "output_type": "stream",
     "text": [
      "61475596.6\n",
      "2525\n",
      "22433.32872703506\n"
     ]
    }
   ],
   "source": [
    "# https://fbinter.stadt-berlin.de/fb/berlin/service_intern.jsp?id=s_gruenanlagenbestand@senstadt&type=WFS\n",
    "open_spaces = gpd.read_file('source/gruenflaechen.geojson')\n",
    "\n",
    "gruenflaeche = open_spaces['KATASTERFL'].sum()\n",
    "print(gruenflaeche) # 61475596.6\n",
    "print(len(open_spaces)) # 2525\n",
    "gesamt = waldflaeche + gruenflaeche\n",
    "print(gesamt/10000) # 22433.32872703506"
   ]
  },
  {
   "cell_type": "code",
   "execution_count": 3,
   "metadata": {},
   "outputs": [
    {
     "name": "stdout",
     "output_type": "stream",
     "text": [
      "2525\n",
      "6147.55966\n",
      "2518\n"
     ]
    }
   ],
   "source": [
    "# source: Geoportal Berlin/Grünanlagenbestand Berlin (einschl. der öffentlichen Spielplätze)\n",
    "# https://fbinter.stadt-berlin.de/fb/index.jsp?loginkey=alphaDataStart&alphaDataId=s_gruenanlagenbestand@senstadt\n",
    "data = pd.read_csv(\"source/gruenflaechen.csv\", sep=\";\").replace('-', '0', regex=True)\n",
    "data[\"Größe in m² (Kataster)\"] = pd.to_numeric(data[\"Größe in m² (Kataster)\"])\n",
    "print(len(data)) # 2525\n",
    "\n",
    "data = data.loc[data['Größe in m² (Kataster)'] > 0.0]\n",
    "print(data[\"Größe in m² (Kataster)\"].sum() / 10000) # 6147.55966\n",
    "\n",
    "print(len(data)) # 2518"
   ]
  },
  {
   "cell_type": "code",
   "execution_count": 4,
   "metadata": {},
   "outputs": [
    {
     "name": "stdout",
     "output_type": "stream",
     "text": [
      "2525\n",
      "KENNZEICH     2518\n",
      "BEZIRKNAME    2518\n",
      "ORTSTLNAME    2514\n",
      "OBJARTNAME    2518\n",
      "NAMENR        2518\n",
      "NAMEZUSATZ    1368\n",
      "BAUJAHR        292\n",
      "SANIERJAHR      98\n",
      "KATASTERFL    2518\n",
      "WIDMUNG       2400\n",
      "PLANNR        2517\n",
      "PLANNAME      2516\n",
      "ANRECH_GF     2507\n",
      "geometry      2518\n",
      "dtype: int64\n",
      "61475596.6\n"
     ]
    }
   ],
   "source": [
    "# https://fbinter.stadt-berlin.de/fb/berlin/service_intern.jsp?id=s_gruenanlagenbestand@senstadt&type=WFS\n",
    "data = gpd.read_file('source/gruenflaechen.geojson')\n",
    "print(len(data)) # 2525\n",
    "data = data.loc[data['KATASTERFL'] > 0]\n",
    "print(data.count())\n",
    "\n",
    "# # KENNZEICH     2518\n",
    "# # BEZIRKNAME    2518\n",
    "# # ORTSTLNAME    2514\n",
    "# # OBJARTNAME    2518\n",
    "# # NAMENR        2518\n",
    "# # NAMEZUSATZ    1368\n",
    "# # BAUJAHR        292\n",
    "# # SANIERJAHR      98\n",
    "# # KATASTERFL    2518\n",
    "# # WIDMUNG       2400\n",
    "# # PLANNR        2517\n",
    "# # PLANNAME      2516\n",
    "# # ANRECH_GF     2507\n",
    "# # geometry      2518\n",
    "\n",
    "print(data['KATASTERFL'].sum()) # 61475596.6"
   ]
  }
 ],
 "metadata": {
  "kernelspec": {
   "display_name": "Python 3.6.9 64-bit",
   "language": "python",
   "name": "python36964bit4f4a7b0706fb4596af9a8f10b9d63889"
  },
  "language_info": {
   "codemirror_mode": {
    "name": "ipython",
    "version": 3
   },
   "file_extension": ".py",
   "mimetype": "text/x-python",
   "name": "python",
   "nbconvert_exporter": "python",
   "pygments_lexer": "ipython3",
   "version": "3.6.9"
  }
 },
 "nbformat": 4,
 "nbformat_minor": 2
}
