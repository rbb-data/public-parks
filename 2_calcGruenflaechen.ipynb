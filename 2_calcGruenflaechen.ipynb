{
 "cells": [
  {
   "cell_type": "code",
   "execution_count": 1,
   "metadata": {},
   "outputs": [
    {
     "name": "stdout",
     "output_type": "stream",
     "text": [
      "11522\n",
      "6258\n",
      "282036587.22155315\n",
      "433585749.9072622\n",
      "282036587.22155315\n",
      "151549162.68570915\n"
     ]
    },
    {
     "ename": "KeyboardInterrupt",
     "evalue": "",
     "output_type": "error",
     "traceback": [
      "\u001b[0;31m---------------------------------------------------------------------------\u001b[0m",
      "\u001b[0;31mKeyboardInterrupt\u001b[0m                         Traceback (most recent call last)",
      "\u001b[0;32m<ipython-input-1-9d79faf2aaf8>\u001b[0m in \u001b[0;36m<module>\u001b[0;34m\u001b[0m\n\u001b[1;32m     21\u001b[0m \u001b[0mprint\u001b[0m\u001b[0;34m(\u001b[0m\u001b[0mforests\u001b[0m\u001b[0;34m[\u001b[0m\u001b[0;34m(\u001b[0m\u001b[0mforests\u001b[0m\u001b[0;34m.\u001b[0m\u001b[0mland\u001b[0m \u001b[0;34m==\u001b[0m \u001b[0;34m'Brandenburg'\u001b[0m\u001b[0;34m)\u001b[0m\u001b[0;34m]\u001b[0m\u001b[0;34m[\u001b[0m\u001b[0;34m'area_text'\u001b[0m\u001b[0;34m]\u001b[0m\u001b[0;34m.\u001b[0m\u001b[0msum\u001b[0m\u001b[0;34m(\u001b[0m\u001b[0;34m)\u001b[0m\u001b[0;34m)\u001b[0m \u001b[0;31m# 151549162.68570915\u001b[0m\u001b[0;34m\u001b[0m\u001b[0;34m\u001b[0m\u001b[0m\n\u001b[1;32m     22\u001b[0m \u001b[0;34m\u001b[0m\u001b[0m\n\u001b[0;32m---> 23\u001b[0;31m \u001b[0mberlinForest\u001b[0m \u001b[0;34m=\u001b[0m \u001b[0mberlinForests\u001b[0m\u001b[0;34m.\u001b[0m\u001b[0munary_union\u001b[0m\u001b[0;34m\u001b[0m\u001b[0;34m\u001b[0m\u001b[0m\n\u001b[0m\u001b[1;32m     24\u001b[0m \u001b[0mberlinForest\u001b[0m\u001b[0;34m.\u001b[0m\u001b[0mcrs\u001b[0m \u001b[0;34m=\u001b[0m \u001b[0;34m\"EPSG:5678\"\u001b[0m\u001b[0;34m\u001b[0m\u001b[0;34m\u001b[0m\u001b[0m\n\u001b[1;32m     25\u001b[0m \u001b[0mberlinForestJSON\u001b[0m \u001b[0;34m=\u001b[0m \u001b[0mgpd\u001b[0m\u001b[0;34m.\u001b[0m\u001b[0mGeoSeries\u001b[0m\u001b[0;34m(\u001b[0m\u001b[0;34m[\u001b[0m\u001b[0mberlinForest\u001b[0m\u001b[0;34m]\u001b[0m\u001b[0;34m)\u001b[0m\u001b[0;34m.\u001b[0m\u001b[0mto_json\u001b[0m\u001b[0;34m(\u001b[0m\u001b[0;34m)\u001b[0m\u001b[0;34m\u001b[0m\u001b[0;34m\u001b[0m\u001b[0m\n",
      "\u001b[0;32m~/.local/lib/python3.6/site-packages/geopandas/base.py\u001b[0m in \u001b[0;36munary_union\u001b[0;34m(self)\u001b[0m\n\u001b[1;32m    282\u001b[0m         \"\"\"Returns a geometry containing the union of all geometries in the\n\u001b[1;32m    283\u001b[0m         ``GeoSeries``.\"\"\"\n\u001b[0;32m--> 284\u001b[0;31m         \u001b[0;32mreturn\u001b[0m \u001b[0mself\u001b[0m\u001b[0;34m.\u001b[0m\u001b[0mgeometry\u001b[0m\u001b[0;34m.\u001b[0m\u001b[0mvalues\u001b[0m\u001b[0;34m.\u001b[0m\u001b[0munary_union\u001b[0m\u001b[0;34m(\u001b[0m\u001b[0;34m)\u001b[0m\u001b[0;34m\u001b[0m\u001b[0;34m\u001b[0m\u001b[0m\n\u001b[0m\u001b[1;32m    285\u001b[0m \u001b[0;34m\u001b[0m\u001b[0m\n\u001b[1;32m    286\u001b[0m     \u001b[0;31m#\u001b[0m\u001b[0;34m\u001b[0m\u001b[0;34m\u001b[0m\u001b[0;34m\u001b[0m\u001b[0m\n",
      "\u001b[0;32m~/.local/lib/python3.6/site-packages/geopandas/array.py\u001b[0m in \u001b[0;36munary_union\u001b[0;34m(self)\u001b[0m\n\u001b[1;32m    706\u001b[0m \u001b[0;34m\u001b[0m\u001b[0m\n\u001b[1;32m    707\u001b[0m     \u001b[0;32mdef\u001b[0m \u001b[0munary_union\u001b[0m\u001b[0;34m(\u001b[0m\u001b[0mself\u001b[0m\u001b[0;34m)\u001b[0m\u001b[0;34m:\u001b[0m\u001b[0;34m\u001b[0m\u001b[0;34m\u001b[0m\u001b[0m\n\u001b[0;32m--> 708\u001b[0;31m         \u001b[0;32mreturn\u001b[0m \u001b[0mshapely\u001b[0m\u001b[0;34m.\u001b[0m\u001b[0mops\u001b[0m\u001b[0;34m.\u001b[0m\u001b[0munary_union\u001b[0m\u001b[0;34m(\u001b[0m\u001b[0mself\u001b[0m\u001b[0;34m.\u001b[0m\u001b[0mdata\u001b[0m\u001b[0;34m)\u001b[0m\u001b[0;34m\u001b[0m\u001b[0;34m\u001b[0m\u001b[0m\n\u001b[0m\u001b[1;32m    709\u001b[0m \u001b[0;34m\u001b[0m\u001b[0m\n\u001b[1;32m    710\u001b[0m     \u001b[0;31m#\u001b[0m\u001b[0;34m\u001b[0m\u001b[0;34m\u001b[0m\u001b[0;34m\u001b[0m\u001b[0m\n",
      "\u001b[0;32m~/.local/lib/python3.6/site-packages/shapely/ops.py\u001b[0m in \u001b[0;36munary_union\u001b[0;34m(self, geoms)\u001b[0m\n\u001b[1;32m    150\u001b[0m             \u001b[0msubs\u001b[0m\u001b[0;34m[\u001b[0m\u001b[0mi\u001b[0m\u001b[0;34m]\u001b[0m \u001b[0;34m=\u001b[0m \u001b[0mg\u001b[0m\u001b[0;34m.\u001b[0m\u001b[0m_geom\u001b[0m\u001b[0;34m\u001b[0m\u001b[0;34m\u001b[0m\u001b[0m\n\u001b[1;32m    151\u001b[0m         \u001b[0mcollection\u001b[0m \u001b[0;34m=\u001b[0m \u001b[0mlgeos\u001b[0m\u001b[0;34m.\u001b[0m\u001b[0mGEOSGeom_createCollection\u001b[0m\u001b[0;34m(\u001b[0m\u001b[0;36m6\u001b[0m\u001b[0;34m,\u001b[0m \u001b[0msubs\u001b[0m\u001b[0;34m,\u001b[0m \u001b[0mL\u001b[0m\u001b[0;34m)\u001b[0m\u001b[0;34m\u001b[0m\u001b[0;34m\u001b[0m\u001b[0m\n\u001b[0;32m--> 152\u001b[0;31m         \u001b[0;32mreturn\u001b[0m \u001b[0mgeom_factory\u001b[0m\u001b[0;34m(\u001b[0m\u001b[0mlgeos\u001b[0m\u001b[0;34m.\u001b[0m\u001b[0mmethods\u001b[0m\u001b[0;34m[\u001b[0m\u001b[0;34m'unary_union'\u001b[0m\u001b[0;34m]\u001b[0m\u001b[0;34m(\u001b[0m\u001b[0mcollection\u001b[0m\u001b[0;34m)\u001b[0m\u001b[0;34m)\u001b[0m\u001b[0;34m\u001b[0m\u001b[0;34m\u001b[0m\u001b[0m\n\u001b[0m\u001b[1;32m    153\u001b[0m \u001b[0;34m\u001b[0m\u001b[0m\n\u001b[1;32m    154\u001b[0m \u001b[0moperator\u001b[0m \u001b[0;34m=\u001b[0m \u001b[0mCollectionOperator\u001b[0m\u001b[0;34m(\u001b[0m\u001b[0;34m)\u001b[0m\u001b[0;34m\u001b[0m\u001b[0;34m\u001b[0m\u001b[0m\n",
      "\u001b[0;31mKeyboardInterrupt\u001b[0m: "
     ]
    }
   ],
   "source": [
    "import geopandas as gpd\n",
    "import pandas as pd \n",
    "import json\n",
    "from area import area\n",
    "\n",
    "from geopandas.geoseries import *\n",
    "\n",
    "# https://fbinter.stadt-berlin.de/fb/berlin/service_intern.jsp?id=wfs_forst_verwalt2014@senstadt&type=WFS\n",
    "forests = gpd.read_file('source/waldflaechen.geojson')\n",
    "forests.insert(0, 'New_ID', range(0, 0 + len(forests)))\n",
    "forests[\"area_text\"] = (forests[\"area_text\"].replace(',', '.', regex=True).astype(float))\n",
    "\n",
    "isBerlinForest = forests['land'] == 'Berlin'\n",
    "berlinForests = forests[isBerlinForest]\n",
    "\n",
    "print(len(forests)) # 11522\n",
    "print(len(berlinForests)) # 6258\n",
    "print(berlinForests['area_text'].sum()) # 282036587.22155315\n",
    "print(forests['area_text'].sum()) # 433585749.9072622 => 43358.5749907 hectar Berlin and Brandenburg\n",
    "print(forests[(forests.land == 'Berlin')]['area_text'].sum()) # 282036587.22155315 => 28203.658722155315 hectar in Berlin\n",
    "print(forests[(forests.land == 'Brandenburg')]['area_text'].sum()) # 151549162.68570915\n",
    "\n",
    "berlinForest = berlinForests.unary_union\n",
    "berlinForest.crs = \"EPSG:5678\"\n",
    "berlinForestJSON = gpd.GeoSeries([berlinForest]).to_json()\n",
    "\n",
    "berlinForest = json.loads(berlinForestJSON)\n",
    "berlinForest = berlinForest['features'][0]['geometry']\n",
    "waldflaeche = area(berlinForest) \n",
    "print(waldflaeche) # 162857690.6703506 in m^2"
   ]
  },
  {
   "cell_type": "code",
   "execution_count": null,
   "metadata": {},
   "outputs": [],
   "source": [
    "# https://fbinter.stadt-berlin.de/fb/berlin/service_intern.jsp?id=s_gruenanlagenbestand@senstadt&type=WFS\n",
    "open_spaces = gpd.read_file('source/gruenflaechen.geojson')\n",
    "\n",
    "gruenflaeche = open_spaces['KATASTERFL'].sum()\n",
    "print(gruenflaeche) # 61475596.6\n",
    "print(len(open_spaces)) # 2525\n",
    "gesamt = waldflaeche + gruenflaeche\n",
    "print(gesamt/10000) # 22433.32872703506"
   ]
  },
  {
   "cell_type": "code",
   "execution_count": null,
   "metadata": {},
   "outputs": [],
   "source": [
    "# source: Geoportal Berlin/Grünanlagenbestand Berlin (einschl. der öffentlichen Spielplätze)\n",
    "# https://fbinter.stadt-berlin.de/fb/index.jsp?loginkey=alphaDataStart&alphaDataId=s_gruenanlagenbestand@senstadt\n",
    "data = pd.read_csv(\"source/gruenflaechen.csv\", sep=\";\").replace('-', '0', regex=True)\n",
    "data[\"Größe in m² (Kataster)\"] = pd.to_numeric(data[\"Größe in m² (Kataster)\"])\n",
    "print(len(data)) # 2525\n",
    "\n",
    "data = data.loc[data['Größe in m² (Kataster)'] > 0.0]\n",
    "print(data[\"Größe in m² (Kataster)\"].sum() / 10000) # 6147.55966\n",
    "\n",
    "print(len(data)) # 2518"
   ]
  },
  {
   "cell_type": "code",
   "execution_count": null,
   "metadata": {},
   "outputs": [],
   "source": [
    "# https://fbinter.stadt-berlin.de/fb/berlin/service_intern.jsp?id=s_gruenanlagenbestand@senstadt&type=WFS\n",
    "data = gpd.read_file('source/gruenflaechen.geojson')\n",
    "print(len(data)) # 2525\n",
    "data = data.loc[data['KATASTERFL'] > 0]\n",
    "print(data.count())\n",
    "\n",
    "# # KENNZEICH     2518\n",
    "# # BEZIRKNAME    2518\n",
    "# # ORTSTLNAME    2514\n",
    "# # OBJARTNAME    2518\n",
    "# # NAMENR        2518\n",
    "# # NAMEZUSATZ    1368\n",
    "# # BAUJAHR        292\n",
    "# # SANIERJAHR      98\n",
    "# # KATASTERFL    2518\n",
    "# # WIDMUNG       2400\n",
    "# # PLANNR        2517\n",
    "# # PLANNAME      2516\n",
    "# # ANRECH_GF     2507\n",
    "# # geometry      2518\n",
    "\n",
    "print(data['KATASTERFL'].sum()) # 61475596.6"
   ]
  }
 ],
 "metadata": {
  "kernelspec": {
   "display_name": "Python 3.6.9 64-bit",
   "language": "python",
   "name": "python36964bit4f4a7b0706fb4596af9a8f10b9d63889"
  },
  "language_info": {
   "codemirror_mode": {
    "name": "ipython",
    "version": 3
   },
   "file_extension": ".py",
   "mimetype": "text/x-python",
   "name": "python",
   "nbconvert_exporter": "python",
   "pygments_lexer": "ipython3",
   "version": "3.6.9"
  }
 },
 "nbformat": 4,
 "nbformat_minor": 2
}
