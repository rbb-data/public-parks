{
 "cells": [
  {
   "cell_type": "code",
   "execution_count": 2,
   "metadata": {},
   "outputs": [
    {
     "name": "stdout",
     "output_type": "stream",
     "text": [
      "11522\n"
     ]
    }
   ],
   "source": [
    "import geopandas as gpd\n",
    "import pandas as pd \n",
    "import json\n",
    "from area import area\n",
    "\n",
    "file_path_of_forests = 'source/waldflaechen.geojson'\n",
    "forests = gpd.read_file(file_path_of_forests)\n",
    "\n",
    "forests.insert(0, 'New_ID', range(0, 0 + len(forests)))\n",
    "forests.to_file(\"output_waldflaechen.geojson\", driver=\"GeoJSON\")\n",
    "\n",
    "forests[\"area_text\"] = (forests[\"area_text\"].replace(',', '.', regex=True).astype(float))\n",
    "\n",
    "isBerlinForest = forests['land'] == 'Berlin'\n",
    "berlinForests = forests[isBerlinForest]\n",
    "# print(len(forests)) # 11522\n",
    "# print(len(berlinForests)) # 6258\n",
    "\n",
    "# berlinForests['area_text'].sum() # 282036587.22155315\n",
    "# berlinForests.to_file('berlinForests.geojson', driver='GeoJSON')\n",
    "\n",
    "berlinForest = berlinForests.unary_union\n",
    "berlinForest.crs = \"EPSG:5678\"\n",
    "frame = gpd.GeoSeries([berlinForest])\n",
    "test = gpd.GeoSeries([berlinForest]).to_json()\n",
    "\n",
    "y = json.loads(test)\n",
    "y = y['features'][0]['geometry']\n",
    "waldflaeche = area(y) \n",
    "# print(waldflaeche) # 162857690.6703506 in m^2"
   ]
  },
  {
   "cell_type": "code",
   "execution_count": 3,
   "metadata": {},
   "outputs": [
    {
     "name": "stdout",
     "output_type": "stream",
     "text": [
      "22433.32872703506\n"
     ]
    }
   ],
   "source": [
    "file_path_of_open_spaces = 'gruenflaechen.geojson'\n",
    "open_spaces = gpd.read_file(file_path_of_open_spaces)\n",
    "\n",
    "gruenflaeche = open_spaces['KATASTERFL'].sum()\n",
    "# print(gruenflaeche) # 61475596.6\n",
    "# print(len(open_spaces)) # 2525\n",
    "gesamt = waldflaeche + gruenflaeche\n",
    "print(gesamt/10000)\n",
    "# 22433.32872703506"
   ]
  }
 ],
 "metadata": {
  "kernelspec": {
   "display_name": "Python 3.6.9 64-bit",
   "language": "python",
   "name": "python36964bit4f4a7b0706fb4596af9a8f10b9d63889"
  },
  "language_info": {
   "codemirror_mode": {
    "name": "ipython",
    "version": 3
   },
   "file_extension": ".py",
   "mimetype": "text/x-python",
   "name": "python",
   "nbconvert_exporter": "python",
   "pygments_lexer": "ipython3",
   "version": "3.6.9"
  }
 },
 "nbformat": 4,
 "nbformat_minor": 2
}
